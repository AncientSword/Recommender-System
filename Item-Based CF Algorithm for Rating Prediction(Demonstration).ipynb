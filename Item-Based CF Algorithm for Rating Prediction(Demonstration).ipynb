{
 "cells": [
  {
   "cell_type": "markdown",
   "metadata": {},
   "source": [
    "# Item-Based CF Algorithm for Rating Prediction(Demonstration)"
   ]
  },
  {
   "cell_type": "markdown",
   "metadata": {},
   "source": [
    "## Import libraries"
   ]
  },
  {
   "cell_type": "code",
   "execution_count": 1,
   "metadata": {},
   "outputs": [],
   "source": [
    "#import libraries\n",
    "import pandas as pd \n",
    "import numpy as np\n",
    "from sklearn.utils import shuffle\n",
    "import collections\n",
    "import time"
   ]
  },
  {
   "cell_type": "markdown",
   "metadata": {},
   "source": [
    "## Load the rating data"
   ]
  },
  {
   "cell_type": "code",
   "execution_count": 2,
   "metadata": {},
   "outputs": [
    {
     "data": {
      "text/html": [
       "<div>\n",
       "<style scoped>\n",
       "    .dataframe tbody tr th:only-of-type {\n",
       "        vertical-align: middle;\n",
       "    }\n",
       "\n",
       "    .dataframe tbody tr th {\n",
       "        vertical-align: top;\n",
       "    }\n",
       "\n",
       "    .dataframe thead th {\n",
       "        text-align: right;\n",
       "    }\n",
       "</style>\n",
       "<table border=\"1\" class=\"dataframe\">\n",
       "  <thead>\n",
       "    <tr style=\"text-align: right;\">\n",
       "      <th></th>\n",
       "      <th>UserID</th>\n",
       "      <th>MovieID</th>\n",
       "      <th>Rating</th>\n",
       "      <th>Timestamp</th>\n",
       "    </tr>\n",
       "  </thead>\n",
       "  <tbody>\n",
       "    <tr>\n",
       "      <th>0</th>\n",
       "      <td>1</td>\n",
       "      <td>1193</td>\n",
       "      <td>5</td>\n",
       "      <td>978300760</td>\n",
       "    </tr>\n",
       "    <tr>\n",
       "      <th>1</th>\n",
       "      <td>1</td>\n",
       "      <td>661</td>\n",
       "      <td>3</td>\n",
       "      <td>978302109</td>\n",
       "    </tr>\n",
       "    <tr>\n",
       "      <th>2</th>\n",
       "      <td>1</td>\n",
       "      <td>914</td>\n",
       "      <td>3</td>\n",
       "      <td>978301968</td>\n",
       "    </tr>\n",
       "    <tr>\n",
       "      <th>3</th>\n",
       "      <td>1</td>\n",
       "      <td>3408</td>\n",
       "      <td>4</td>\n",
       "      <td>978300275</td>\n",
       "    </tr>\n",
       "    <tr>\n",
       "      <th>4</th>\n",
       "      <td>1</td>\n",
       "      <td>2355</td>\n",
       "      <td>5</td>\n",
       "      <td>978824291</td>\n",
       "    </tr>\n",
       "    <tr>\n",
       "      <th>...</th>\n",
       "      <td>...</td>\n",
       "      <td>...</td>\n",
       "      <td>...</td>\n",
       "      <td>...</td>\n",
       "    </tr>\n",
       "    <tr>\n",
       "      <th>1000204</th>\n",
       "      <td>6040</td>\n",
       "      <td>1091</td>\n",
       "      <td>1</td>\n",
       "      <td>956716541</td>\n",
       "    </tr>\n",
       "    <tr>\n",
       "      <th>1000205</th>\n",
       "      <td>6040</td>\n",
       "      <td>1094</td>\n",
       "      <td>5</td>\n",
       "      <td>956704887</td>\n",
       "    </tr>\n",
       "    <tr>\n",
       "      <th>1000206</th>\n",
       "      <td>6040</td>\n",
       "      <td>562</td>\n",
       "      <td>5</td>\n",
       "      <td>956704746</td>\n",
       "    </tr>\n",
       "    <tr>\n",
       "      <th>1000207</th>\n",
       "      <td>6040</td>\n",
       "      <td>1096</td>\n",
       "      <td>4</td>\n",
       "      <td>956715648</td>\n",
       "    </tr>\n",
       "    <tr>\n",
       "      <th>1000208</th>\n",
       "      <td>6040</td>\n",
       "      <td>1097</td>\n",
       "      <td>4</td>\n",
       "      <td>956715569</td>\n",
       "    </tr>\n",
       "  </tbody>\n",
       "</table>\n",
       "<p>1000209 rows × 4 columns</p>\n",
       "</div>"
      ],
      "text/plain": [
       "         UserID  MovieID  Rating  Timestamp\n",
       "0             1     1193       5  978300760\n",
       "1             1      661       3  978302109\n",
       "2             1      914       3  978301968\n",
       "3             1     3408       4  978300275\n",
       "4             1     2355       5  978824291\n",
       "...         ...      ...     ...        ...\n",
       "1000204    6040     1091       1  956716541\n",
       "1000205    6040     1094       5  956704887\n",
       "1000206    6040      562       5  956704746\n",
       "1000207    6040     1096       4  956715648\n",
       "1000208    6040     1097       4  956715569\n",
       "\n",
       "[1000209 rows x 4 columns]"
      ]
     },
     "execution_count": 2,
     "metadata": {},
     "output_type": "execute_result"
    }
   ],
   "source": [
    "#load the rating data\n",
    "ratingsHeader = [\"UserID\", \"MovieID\", \"Rating\", \"Timestamp\"]\n",
    "ratingsDF = pd.read_table('Raw Data/ratings.dat',sep = '::', names = ratingsHeader, engine = \"python\")\n",
    "ratingsDF"
   ]
  },
  {
   "cell_type": "markdown",
   "metadata": {},
   "source": [
    "## K - Fold Cross Validation\n",
    "\n",
    "* shuffle the dataframe\n",
    "* split the data into K folds\n",
    "* split the trainData(K-1) and testData(1) for K times\n",
    "* return the trainDataList and the testDataList"
   ]
  },
  {
   "cell_type": "code",
   "execution_count": 3,
   "metadata": {},
   "outputs": [],
   "source": [
    "#split the data\n",
    "def splitData(df, folds = 5, shu = True, randomState = None):\n",
    "    trainDFList = []\n",
    "    testDFList = []\n",
    "    #shuffle the dataframe\n",
    "    df = shuffle(df, random_state = randomState)\n",
    "    #split the data into K folds\n",
    "    nums = df.shape[0]\n",
    "    length = int(nums / folds)\n",
    "    dfList = []\n",
    "    dfList.append(df[0:length])\n",
    "    for i in range(1,folds - 1):\n",
    "        dfList.append(df[i*length: (i + 1) * length])\n",
    "    dfList.append(df[(folds - 1) * length :])\n",
    "    #split the trainData and test Data\n",
    "    for i in range(folds):\n",
    "        testDF = dfList[i]\n",
    "        tempList = []\n",
    "        for j in range(folds):\n",
    "            if(j != i):\n",
    "                tempList.append(j)\n",
    "        trainDF = dfList[tempList[0]]\n",
    "        for j in range(1,folds - 1):\n",
    "            trainDF = pd.concat([trainDF, dfList[tempList[j]]])\n",
    "        trainDFList.append(trainDF)\n",
    "        testDFList.append(testDF)\n",
    "    #return the trainDataList and the testDataList\n",
    "    return trainDFList, testDFList"
   ]
  },
  {
   "cell_type": "code",
   "execution_count": 4,
   "metadata": {},
   "outputs": [],
   "source": [
    "#split the data\n",
    "trainRatingDFList, testRatingDFList = splitData(ratingsDF, folds = 5, shu = True, randomState = 1)"
   ]
  },
  {
   "cell_type": "markdown",
   "metadata": {},
   "source": [
    "## Load the train Rating Data"
   ]
  },
  {
   "cell_type": "code",
   "execution_count": 5,
   "metadata": {},
   "outputs": [],
   "source": [
    "# load the train rating data\n",
    "# save the Rating Data into the dictionary\n",
    "def loadTrainRatingData(row, dataSet, dataSet2):\n",
    "    userID = row['UserID']\n",
    "    movieID = row['MovieID']\n",
    "    rating = row['Rating']\n",
    "    dataSet[userID][movieID] = rating\n",
    "    dataSet2[movieID][userID] = rating"
   ]
  },
  {
   "cell_type": "code",
   "execution_count": 6,
   "metadata": {},
   "outputs": [
    {
     "data": {
      "text/plain": [
       "120098    None\n",
       "529184    None\n",
       "341591    None\n",
       "470922    None\n",
       "630004    None\n",
       "          ... \n",
       "491263    None\n",
       "791624    None\n",
       "470924    None\n",
       "491755    None\n",
       "128037    None\n",
       "Length: 800168, dtype: object"
      ]
     },
     "execution_count": 6,
     "metadata": {},
     "output_type": "execute_result"
    }
   ],
   "source": [
    "# load the train rating data\n",
    "trainRatingDF = trainRatingDFList[0]\n",
    "trainDataSet = collections.defaultdict(dict)\n",
    "trainDataSet2 = collections.defaultdict(dict)\n",
    "trainRatingDF.apply(loadTrainRatingData, axis = 1, dataSet = trainDataSet, dataSet2 = trainDataSet2)"
   ]
  },
  {
   "cell_type": "markdown",
   "metadata": {},
   "source": [
    "trainDataSet save the rated movies and rating value for each user"
   ]
  },
  {
   "cell_type": "code",
   "execution_count": 7,
   "metadata": {},
   "outputs": [
    {
     "data": {
      "text/plain": [
       "4"
      ]
     },
     "execution_count": 7,
     "metadata": {},
     "output_type": "execute_result"
    }
   ],
   "source": [
    "# The rating value that User1 rated on Movie2918 is 4 \n",
    "trainDataSet[1][2918]"
   ]
  },
  {
   "cell_type": "markdown",
   "metadata": {},
   "source": [
    "trainDataSet2 save the rated user and rating value for each movie"
   ]
  },
  {
   "cell_type": "code",
   "execution_count": 8,
   "metadata": {},
   "outputs": [
    {
     "data": {
      "text/plain": [
       "4"
      ]
     },
     "execution_count": 8,
     "metadata": {},
     "output_type": "execute_result"
    }
   ],
   "source": [
    "# The rating value that User1 rated on Movie2918 is 4 \n",
    "trainDataSet2[2918][1]"
   ]
  },
  {
   "cell_type": "markdown",
   "metadata": {},
   "source": [
    "## Load the test rating data"
   ]
  },
  {
   "cell_type": "code",
   "execution_count": 9,
   "metadata": {},
   "outputs": [],
   "source": [
    "# load the test rating data\n",
    "# save the Rating Data into the dictionary\n",
    "def loadTestRatingData(row, dataSet):\n",
    "    userID = row['UserID']\n",
    "    movieID = row['MovieID']\n",
    "    rating = row['Rating']\n",
    "    dataSet[userID][movieID] = rating"
   ]
  },
  {
   "cell_type": "code",
   "execution_count": 10,
   "metadata": {},
   "outputs": [
    {
     "data": {
      "text/plain": [
       "630120    None\n",
       "229398    None\n",
       "758377    None\n",
       "159240    None\n",
       "254252    None\n",
       "          ... \n",
       "659611    None\n",
       "875199    None\n",
       "743921    None\n",
       "527163    None\n",
       "623363    None\n",
       "Length: 200041, dtype: object"
      ]
     },
     "execution_count": 10,
     "metadata": {},
     "output_type": "execute_result"
    }
   ],
   "source": [
    "# load the test rating data\n",
    "testRatingDF = testRatingDFList[0]\n",
    "testDataSet = collections.defaultdict(dict)\n",
    "testRatingDF.apply(loadTestRatingData, axis = 1, dataSet = testDataSet)"
   ]
  },
  {
   "cell_type": "code",
   "execution_count": 11,
   "metadata": {},
   "outputs": [
    {
     "data": {
      "text/plain": [
       "4"
      ]
     },
     "execution_count": 11,
     "metadata": {},
     "output_type": "execute_result"
    }
   ],
   "source": [
    "# The rating value that User1 rated on Movie594 is 4 \n",
    "testDataSet[1][594]"
   ]
  },
  {
   "cell_type": "markdown",
   "metadata": {},
   "source": [
    "## Calculate similarities among movies\n",
    "\n",
    "* get the index\n",
    "* find the commen Items\n",
    "* calculate the similarity\n",
    "* save the similarity"
   ]
  },
  {
   "cell_type": "code",
   "execution_count": 12,
   "metadata": {},
   "outputs": [],
   "source": [
    "# Calculate similarities among movies\n",
    "# save the similarities into the dictionary\n",
    "def movieSimilarity(trainDataSet):\n",
    "    trainMovieList = list(trainDataSet.keys())\n",
    "    num = len(trainMovieList)\n",
    "    movieSimilarityDict = collections.defaultdict(dict)\n",
    "    #calculate similarities among all the movies\n",
    "    for i in range(num):\n",
    "        for j in range(i, num):\n",
    "            #get the index\n",
    "            IDA = trainMovieList[i]\n",
    "            IDB = trainMovieList[j]\n",
    "            setA = set(trainDataSet[IDA].keys())\n",
    "            setB = set(trainDataSet[IDB].keys())\n",
    "            #count the commonItems\n",
    "            commonItems = len(setA.intersection(setB))\n",
    "            #calculate the similarity\n",
    "            similarity = commonItems/np.sqrt(len(setA) * len(setB))\n",
    "            #save the similarity\n",
    "            movieSimilarityDict[IDA][IDB] = similarity\n",
    "            movieSimilarityDict[IDB][IDA] = similarity\n",
    "    #return the similarity dictionary\n",
    "    return movieSimilarityDict"
   ]
  },
  {
   "cell_type": "code",
   "execution_count": 13,
   "metadata": {},
   "outputs": [],
   "source": [
    "#calculate similarities among movies\n",
    "movieSimilarityDict = movieSimilarity(trainDataSet2)"
   ]
  },
  {
   "cell_type": "code",
   "execution_count": 14,
   "metadata": {},
   "outputs": [
    {
     "data": {
      "text/plain": [
       "0.3350466112843514"
      ]
     },
     "execution_count": 14,
     "metadata": {},
     "output_type": "execute_result"
    }
   ],
   "source": [
    "#the similarity between Movie1 and Movie2 is 0.335\n",
    "movieSimilarityDict[1][2]"
   ]
  },
  {
   "cell_type": "markdown",
   "metadata": {},
   "source": [
    "## Predict the rating value\n",
    "\n",
    "* select movies user rated\n",
    "* select the K most similar movies\n",
    "* predict the rating value"
   ]
  },
  {
   "cell_type": "code",
   "execution_count": 15,
   "metadata": {},
   "outputs": [],
   "source": [
    "# predict the rating value\n",
    "def predictRating(trainDataSet, movieSimilarityDict, userID, movieID, K):\n",
    "    similaritySum = 0.0\n",
    "    ratingSimSum = 0.0\n",
    "    #select the movies user rated\n",
    "    ratedMovies = trainDataSet[userID]\n",
    "    similarMovieDict = collections.defaultdict(float)\n",
    "    for similarMovieID in ratedMovies:\n",
    "        if(similarMovieID == movieID):\n",
    "            continue\n",
    "        similarMovieDict[similarMovieID] = movieSimilarityDict[similarMovieID][movieID]\n",
    "    #select the K most similar movies\n",
    "    for similarMovieID, similarity in sorted(similarMovieDict.items(), key = lambda d:d[1], reverse = True)[:K]:\n",
    "        similaritySum += similarity\n",
    "        ratingSimSum += similarity * ratedMovies[similarMovieID]\n",
    "    #predict the rating value\n",
    "    if(similaritySum == 0):\n",
    "        result = 0\n",
    "    else:\n",
    "        result = 1.0 * ratingSimSum / similaritySum\n",
    "    return result"
   ]
  },
  {
   "cell_type": "code",
   "execution_count": 16,
   "metadata": {},
   "outputs": [
    {
     "data": {
      "text/plain": [
       "4.455166940096121"
      ]
     },
     "execution_count": 16,
     "metadata": {},
     "output_type": "execute_result"
    }
   ],
   "source": [
    "#predict the rating value(User1 on Movie594)\n",
    "predictRating(trainDataSet, movieSimilarityDict, 1, 594, 10)"
   ]
  },
  {
   "cell_type": "code",
   "execution_count": 17,
   "metadata": {},
   "outputs": [
    {
     "data": {
      "text/plain": [
       "4"
      ]
     },
     "execution_count": 17,
     "metadata": {},
     "output_type": "execute_result"
    }
   ],
   "source": [
    "#The rating value that User1 rated on Movie594 is 4 \n",
    "testDataSet[1][594]"
   ]
  },
  {
   "cell_type": "markdown",
   "metadata": {},
   "source": [
    "## Calculate the mean absolute error "
   ]
  },
  {
   "cell_type": "code",
   "execution_count": 18,
   "metadata": {},
   "outputs": [],
   "source": [
    "#calculate the mean absolute error on the user\n",
    "def evaluateUserMAE(trainDataSet, testDataSet, movieSimilarityDict, userID, K):\n",
    "    AESum = 0.0\n",
    "    n = len(testDataSet[userID].keys())\n",
    "    for movieID in testDataSet[userID].keys():\n",
    "        try:\n",
    "            AESum += np.fabs(predictRating(trainDataSet, movieSimilarityDict, userID, movieID, K) - testDataSet[userID][movieID])\n",
    "        except:\n",
    "            n -= 1\n",
    "    return [AESum, n]"
   ]
  },
  {
   "cell_type": "code",
   "execution_count": 19,
   "metadata": {},
   "outputs": [
    {
     "data": {
      "text/plain": [
       "0.5608424425381069"
      ]
     },
     "execution_count": 19,
     "metadata": {},
     "output_type": "execute_result"
    }
   ],
   "source": [
    "#calculate the mean absolute error on User 1\n",
    "AESum, n = evaluateUserMAE(trainDataSet, testDataSet, movieSimilarityDict, 1, 10)\n",
    "AESum/n"
   ]
  },
  {
   "cell_type": "code",
   "execution_count": 20,
   "metadata": {},
   "outputs": [],
   "source": [
    "#calculate the mean absolute error on the whole dataset\n",
    "def evaluateMAE(trainDataSet, testDataSet, movieSimilarityDict, K):\n",
    "    AESum = 0.0\n",
    "    n = 0\n",
    "    for userID in list(testDataSet.keys()):\n",
    "        curAE, curN = evaluateUserMAE(trainDataSet, testDataSet, movieSimilarityDict, userID, K)\n",
    "        AESum += curAE\n",
    "        n += curN\n",
    "    return AESum / n"
   ]
  },
  {
   "cell_type": "code",
   "execution_count": 21,
   "metadata": {},
   "outputs": [
    {
     "data": {
      "text/plain": [
       "0.7250678732702602"
      ]
     },
     "execution_count": 21,
     "metadata": {},
     "output_type": "execute_result"
    }
   ],
   "source": [
    "#calculate the mean absolute error on the whole dataset\n",
    "evaluateMAE(trainDataSet, testDataSet, movieSimilarityDict, 10)"
   ]
  }
 ],
 "metadata": {
  "kernelspec": {
   "display_name": "Python 3",
   "language": "python",
   "name": "python3"
  },
  "language_info": {
   "codemirror_mode": {
    "name": "ipython",
    "version": 3
   },
   "file_extension": ".py",
   "mimetype": "text/x-python",
   "name": "python",
   "nbconvert_exporter": "python",
   "pygments_lexer": "ipython3",
   "version": "3.6.5"
  }
 },
 "nbformat": 4,
 "nbformat_minor": 2
}
