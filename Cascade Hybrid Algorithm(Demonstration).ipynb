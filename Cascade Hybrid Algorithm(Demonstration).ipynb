{
 "cells": [
  {
   "cell_type": "markdown",
   "metadata": {},
   "source": [
    "# Cascade Hybrid Algorithm(Demonstration)"
   ]
  },
  {
   "cell_type": "markdown",
   "metadata": {},
   "source": [
    "## Import libraries"
   ]
  },
  {
   "cell_type": "code",
   "execution_count": 1,
   "metadata": {},
   "outputs": [],
   "source": [
    "# import libraries\n",
    "import pandas as pd\n",
    "import numpy as np\n",
    "from sklearn.feature_extraction.text import TfidfVectorizer, CountVectorizer\n",
    "import collections\n",
    "from sklearn.utils import shuffle\n",
    "from sklearn.ensemble import RandomForestClassifier\n",
    "from sklearn.metrics.pairwise import linear_kernel\n",
    "import warnings\n",
    "warnings.simplefilter('ignore')"
   ]
  },
  {
   "cell_type": "markdown",
   "metadata": {},
   "source": [
    "## Load the metadata"
   ]
  },
  {
   "cell_type": "code",
   "execution_count": 2,
   "metadata": {},
   "outputs": [
    {
     "data": {
      "text/html": [
       "<div>\n",
       "<style scoped>\n",
       "    .dataframe tbody tr th:only-of-type {\n",
       "        vertical-align: middle;\n",
       "    }\n",
       "\n",
       "    .dataframe tbody tr th {\n",
       "        vertical-align: top;\n",
       "    }\n",
       "\n",
       "    .dataframe thead th {\n",
       "        text-align: right;\n",
       "    }\n",
       "</style>\n",
       "<table border=\"1\" class=\"dataframe\">\n",
       "  <thead>\n",
       "    <tr style=\"text-align: right;\">\n",
       "      <th></th>\n",
       "      <th>genres</th>\n",
       "      <th>tmdbId</th>\n",
       "      <th>overview</th>\n",
       "      <th>tagline</th>\n",
       "      <th>title</th>\n",
       "      <th>keywords</th>\n",
       "      <th>cast</th>\n",
       "      <th>movieId</th>\n",
       "      <th>director</th>\n",
       "      <th>description</th>\n",
       "    </tr>\n",
       "  </thead>\n",
       "  <tbody>\n",
       "    <tr>\n",
       "      <th>0</th>\n",
       "      <td>['Animation', 'Comedy', 'Family']</td>\n",
       "      <td>862</td>\n",
       "      <td>Led by Woody, Andy's toys live happily in his ...</td>\n",
       "      <td></td>\n",
       "      <td>Toy Story</td>\n",
       "      <td>['jealousy', 'toy', 'boy', 'friendship', 'frie...</td>\n",
       "      <td>['Tom Hanks', 'Tim Allen', 'Don Rickles', 'Jim...</td>\n",
       "      <td>1</td>\n",
       "      <td>John Lasseter</td>\n",
       "      <td>Led by Woody, Andy's toys live happily in his ...</td>\n",
       "    </tr>\n",
       "    <tr>\n",
       "      <th>1</th>\n",
       "      <td>['Adventure', 'Fantasy', 'Family']</td>\n",
       "      <td>8844</td>\n",
       "      <td>When siblings Judy and Peter discover an encha...</td>\n",
       "      <td>Roll the dice and unleash the excitement!</td>\n",
       "      <td>Jumanji</td>\n",
       "      <td>['board game', 'disappearance', \"based on chil...</td>\n",
       "      <td>['Robin Williams', 'Jonathan Hyde', 'Kirsten D...</td>\n",
       "      <td>2</td>\n",
       "      <td>Joe Johnston</td>\n",
       "      <td>When siblings Judy and Peter discover an encha...</td>\n",
       "    </tr>\n",
       "    <tr>\n",
       "      <th>2</th>\n",
       "      <td>['Romance', 'Comedy']</td>\n",
       "      <td>15602</td>\n",
       "      <td>A family wedding reignites the ancient feud be...</td>\n",
       "      <td>Still Yelling. Still Fighting. Still Ready for...</td>\n",
       "      <td>Grumpier Old Men</td>\n",
       "      <td>['fishing', 'best friend', 'duringcreditssting...</td>\n",
       "      <td>['Walter Matthau', 'Jack Lemmon', 'Ann-Margret...</td>\n",
       "      <td>3</td>\n",
       "      <td>Howard Deutch</td>\n",
       "      <td>A family wedding reignites the ancient feud be...</td>\n",
       "    </tr>\n",
       "    <tr>\n",
       "      <th>3</th>\n",
       "      <td>['Comedy', 'Drama', 'Romance']</td>\n",
       "      <td>31357</td>\n",
       "      <td>Cheated on, mistreated and stepped on, the wom...</td>\n",
       "      <td>Friends are the people who let you be yourself...</td>\n",
       "      <td>Waiting to Exhale</td>\n",
       "      <td>['based on novel', 'interracial relationship',...</td>\n",
       "      <td>['Whitney Houston', 'Angela Bassett', 'Loretta...</td>\n",
       "      <td>4</td>\n",
       "      <td>Forest Whitaker</td>\n",
       "      <td>Cheated on, mistreated and stepped on, the wom...</td>\n",
       "    </tr>\n",
       "    <tr>\n",
       "      <th>4</th>\n",
       "      <td>['Comedy']</td>\n",
       "      <td>11862</td>\n",
       "      <td>Just when George Banks has recovered from his ...</td>\n",
       "      <td>Just When His World Is Back To Normal... He's ...</td>\n",
       "      <td>Father of the Bride Part II</td>\n",
       "      <td>['baby', 'midlife crisis', 'confidence', 'agin...</td>\n",
       "      <td>['Steve Martin', 'Diane Keaton', 'Martin Short...</td>\n",
       "      <td>5</td>\n",
       "      <td>Charles Shyer</td>\n",
       "      <td>Just when George Banks has recovered from his ...</td>\n",
       "    </tr>\n",
       "    <tr>\n",
       "      <th>...</th>\n",
       "      <td>...</td>\n",
       "      <td>...</td>\n",
       "      <td>...</td>\n",
       "      <td>...</td>\n",
       "      <td>...</td>\n",
       "      <td>...</td>\n",
       "      <td>...</td>\n",
       "      <td>...</td>\n",
       "      <td>...</td>\n",
       "      <td>...</td>\n",
       "    </tr>\n",
       "    <tr>\n",
       "      <th>3817</th>\n",
       "      <td>['Comedy', 'Romance']</td>\n",
       "      <td>1597</td>\n",
       "      <td>Greg Focker is ready to marry his girlfriend, ...</td>\n",
       "      <td>First comes love. Then comes the interrogation.</td>\n",
       "      <td>Meet the Parents</td>\n",
       "      <td>['cia', 'airport', 'cat', 'jew', 'orderly', 'a...</td>\n",
       "      <td>['Ben Stiller', 'Robert De Niro', 'Teri Polo',...</td>\n",
       "      <td>3948</td>\n",
       "      <td>Jay Roach</td>\n",
       "      <td>Greg Focker is ready to marry his girlfriend, ...</td>\n",
       "    </tr>\n",
       "    <tr>\n",
       "      <th>3818</th>\n",
       "      <td>['Crime', 'Drama']</td>\n",
       "      <td>641</td>\n",
       "      <td>The hopes and dreams of four ambitious people ...</td>\n",
       "      <td></td>\n",
       "      <td>Requiem for a Dream</td>\n",
       "      <td>['drug addiction', 'junkie', 'heroin', 'speed'...</td>\n",
       "      <td>['Ellen Burstyn', 'Jared Leto', 'Jennifer Conn...</td>\n",
       "      <td>3949</td>\n",
       "      <td>Darren Aronofsky</td>\n",
       "      <td>The hopes and dreams of four ambitious people ...</td>\n",
       "    </tr>\n",
       "    <tr>\n",
       "      <th>3819</th>\n",
       "      <td>['Drama', 'War']</td>\n",
       "      <td>10687</td>\n",
       "      <td>A group of recruits go through Advanced Infant...</td>\n",
       "      <td>The system wanted them to become soldiers. One...</td>\n",
       "      <td>Tigerland</td>\n",
       "      <td>['independent film', 'awol', 'fort polk louisi...</td>\n",
       "      <td>['Colin Farrell', 'Matthew Davis', 'Clifton Co...</td>\n",
       "      <td>3950</td>\n",
       "      <td>Joel Schumacher</td>\n",
       "      <td>A group of recruits go through Advanced Infant...</td>\n",
       "    </tr>\n",
       "    <tr>\n",
       "      <th>3820</th>\n",
       "      <td>['Drama', 'Romance']</td>\n",
       "      <td>63956</td>\n",
       "      <td>Buddy Visalo (Michael Rispoli) is a factory wo...</td>\n",
       "      <td>The only way to find out what you love is to r...</td>\n",
       "      <td>Two Family House</td>\n",
       "      <td>[]</td>\n",
       "      <td>['Michael Rispoli', 'Kelly Macdonald', 'Kathri...</td>\n",
       "      <td>3951</td>\n",
       "      <td>Raymond De Felitta</td>\n",
       "      <td>Buddy Visalo (Michael Rispoli) is a factory wo...</td>\n",
       "    </tr>\n",
       "    <tr>\n",
       "      <th>3821</th>\n",
       "      <td>['Drama', 'Thriller']</td>\n",
       "      <td>6521</td>\n",
       "      <td>Political thriller about Laine Hanson's nomina...</td>\n",
       "      <td>Sometimes you can assassinate a leader without...</td>\n",
       "      <td>The Contender</td>\n",
       "      <td>['politics', 'suspense']</td>\n",
       "      <td>['Gary Oldman', 'Joan Allen', 'Jeff Bridges', ...</td>\n",
       "      <td>3952</td>\n",
       "      <td>Rod Lurie</td>\n",
       "      <td>Political thriller about Laine Hanson's nomina...</td>\n",
       "    </tr>\n",
       "  </tbody>\n",
       "</table>\n",
       "<p>3822 rows × 10 columns</p>\n",
       "</div>"
      ],
      "text/plain": [
       "                                  genres  tmdbId  \\\n",
       "0      ['Animation', 'Comedy', 'Family']     862   \n",
       "1     ['Adventure', 'Fantasy', 'Family']    8844   \n",
       "2                  ['Romance', 'Comedy']   15602   \n",
       "3         ['Comedy', 'Drama', 'Romance']   31357   \n",
       "4                             ['Comedy']   11862   \n",
       "...                                  ...     ...   \n",
       "3817               ['Comedy', 'Romance']    1597   \n",
       "3818                  ['Crime', 'Drama']     641   \n",
       "3819                    ['Drama', 'War']   10687   \n",
       "3820                ['Drama', 'Romance']   63956   \n",
       "3821               ['Drama', 'Thriller']    6521   \n",
       "\n",
       "                                               overview  \\\n",
       "0     Led by Woody, Andy's toys live happily in his ...   \n",
       "1     When siblings Judy and Peter discover an encha...   \n",
       "2     A family wedding reignites the ancient feud be...   \n",
       "3     Cheated on, mistreated and stepped on, the wom...   \n",
       "4     Just when George Banks has recovered from his ...   \n",
       "...                                                 ...   \n",
       "3817  Greg Focker is ready to marry his girlfriend, ...   \n",
       "3818  The hopes and dreams of four ambitious people ...   \n",
       "3819  A group of recruits go through Advanced Infant...   \n",
       "3820  Buddy Visalo (Michael Rispoli) is a factory wo...   \n",
       "3821  Political thriller about Laine Hanson's nomina...   \n",
       "\n",
       "                                                tagline  \\\n",
       "0                                                         \n",
       "1             Roll the dice and unleash the excitement!   \n",
       "2     Still Yelling. Still Fighting. Still Ready for...   \n",
       "3     Friends are the people who let you be yourself...   \n",
       "4     Just When His World Is Back To Normal... He's ...   \n",
       "...                                                 ...   \n",
       "3817    First comes love. Then comes the interrogation.   \n",
       "3818                                                      \n",
       "3819  The system wanted them to become soldiers. One...   \n",
       "3820  The only way to find out what you love is to r...   \n",
       "3821  Sometimes you can assassinate a leader without...   \n",
       "\n",
       "                            title  \\\n",
       "0                       Toy Story   \n",
       "1                         Jumanji   \n",
       "2                Grumpier Old Men   \n",
       "3               Waiting to Exhale   \n",
       "4     Father of the Bride Part II   \n",
       "...                           ...   \n",
       "3817             Meet the Parents   \n",
       "3818          Requiem for a Dream   \n",
       "3819                    Tigerland   \n",
       "3820             Two Family House   \n",
       "3821                The Contender   \n",
       "\n",
       "                                               keywords  \\\n",
       "0     ['jealousy', 'toy', 'boy', 'friendship', 'frie...   \n",
       "1     ['board game', 'disappearance', \"based on chil...   \n",
       "2     ['fishing', 'best friend', 'duringcreditssting...   \n",
       "3     ['based on novel', 'interracial relationship',...   \n",
       "4     ['baby', 'midlife crisis', 'confidence', 'agin...   \n",
       "...                                                 ...   \n",
       "3817  ['cia', 'airport', 'cat', 'jew', 'orderly', 'a...   \n",
       "3818  ['drug addiction', 'junkie', 'heroin', 'speed'...   \n",
       "3819  ['independent film', 'awol', 'fort polk louisi...   \n",
       "3820                                                 []   \n",
       "3821                           ['politics', 'suspense']   \n",
       "\n",
       "                                                   cast  movieId  \\\n",
       "0     ['Tom Hanks', 'Tim Allen', 'Don Rickles', 'Jim...        1   \n",
       "1     ['Robin Williams', 'Jonathan Hyde', 'Kirsten D...        2   \n",
       "2     ['Walter Matthau', 'Jack Lemmon', 'Ann-Margret...        3   \n",
       "3     ['Whitney Houston', 'Angela Bassett', 'Loretta...        4   \n",
       "4     ['Steve Martin', 'Diane Keaton', 'Martin Short...        5   \n",
       "...                                                 ...      ...   \n",
       "3817  ['Ben Stiller', 'Robert De Niro', 'Teri Polo',...     3948   \n",
       "3818  ['Ellen Burstyn', 'Jared Leto', 'Jennifer Conn...     3949   \n",
       "3819  ['Colin Farrell', 'Matthew Davis', 'Clifton Co...     3950   \n",
       "3820  ['Michael Rispoli', 'Kelly Macdonald', 'Kathri...     3951   \n",
       "3821  ['Gary Oldman', 'Joan Allen', 'Jeff Bridges', ...     3952   \n",
       "\n",
       "                director                                        description  \n",
       "0          John Lasseter  Led by Woody, Andy's toys live happily in his ...  \n",
       "1           Joe Johnston  When siblings Judy and Peter discover an encha...  \n",
       "2          Howard Deutch  A family wedding reignites the ancient feud be...  \n",
       "3        Forest Whitaker  Cheated on, mistreated and stepped on, the wom...  \n",
       "4          Charles Shyer  Just when George Banks has recovered from his ...  \n",
       "...                  ...                                                ...  \n",
       "3817           Jay Roach  Greg Focker is ready to marry his girlfriend, ...  \n",
       "3818    Darren Aronofsky  The hopes and dreams of four ambitious people ...  \n",
       "3819     Joel Schumacher  A group of recruits go through Advanced Infant...  \n",
       "3820  Raymond De Felitta  Buddy Visalo (Michael Rispoli) is a factory wo...  \n",
       "3821           Rod Lurie  Political thriller about Laine Hanson's nomina...  \n",
       "\n",
       "[3822 rows x 10 columns]"
      ]
     },
     "execution_count": 2,
     "metadata": {},
     "output_type": "execute_result"
    }
   ],
   "source": [
    "# load the metadata\n",
    "moviesMetadataDF = pd.read_csv(\"The Movies DataSet/processedMoviesMetadata.csv\", index_col = 0)\n",
    "#data processing\n",
    "moviesMetadataDF['overview'] = moviesMetadataDF['overview'].fillna('')\n",
    "moviesMetadataDF['tagline'] = moviesMetadataDF['tagline'].fillna('')\n",
    "moviesMetadataDF['genres'] = moviesMetadataDF['genres'].fillna('')\n",
    "moviesMetadataDF['description'] = moviesMetadataDF['overview'] + moviesMetadataDF['tagline'] + moviesMetadataDF['genres'] #+ moviesMetadataDF['keywords']\n",
    "moviesMetadataDF['description'] = moviesMetadataDF['description'].fillna('')\n",
    "moviesMetadataDF"
   ]
  },
  {
   "cell_type": "markdown",
   "metadata": {},
   "source": [
    "## Load the rating data"
   ]
  },
  {
   "cell_type": "code",
   "execution_count": 3,
   "metadata": {},
   "outputs": [
    {
     "data": {
      "text/html": [
       "<div>\n",
       "<style scoped>\n",
       "    .dataframe tbody tr th:only-of-type {\n",
       "        vertical-align: middle;\n",
       "    }\n",
       "\n",
       "    .dataframe tbody tr th {\n",
       "        vertical-align: top;\n",
       "    }\n",
       "\n",
       "    .dataframe thead th {\n",
       "        text-align: right;\n",
       "    }\n",
       "</style>\n",
       "<table border=\"1\" class=\"dataframe\">\n",
       "  <thead>\n",
       "    <tr style=\"text-align: right;\">\n",
       "      <th></th>\n",
       "      <th>UserID</th>\n",
       "      <th>MovieID</th>\n",
       "      <th>Rating</th>\n",
       "      <th>Timestamp</th>\n",
       "    </tr>\n",
       "  </thead>\n",
       "  <tbody>\n",
       "    <tr>\n",
       "      <th>0</th>\n",
       "      <td>1</td>\n",
       "      <td>1193</td>\n",
       "      <td>5</td>\n",
       "      <td>978300760</td>\n",
       "    </tr>\n",
       "    <tr>\n",
       "      <th>1</th>\n",
       "      <td>1</td>\n",
       "      <td>661</td>\n",
       "      <td>3</td>\n",
       "      <td>978302109</td>\n",
       "    </tr>\n",
       "    <tr>\n",
       "      <th>2</th>\n",
       "      <td>1</td>\n",
       "      <td>914</td>\n",
       "      <td>3</td>\n",
       "      <td>978301968</td>\n",
       "    </tr>\n",
       "    <tr>\n",
       "      <th>3</th>\n",
       "      <td>1</td>\n",
       "      <td>3408</td>\n",
       "      <td>4</td>\n",
       "      <td>978300275</td>\n",
       "    </tr>\n",
       "    <tr>\n",
       "      <th>4</th>\n",
       "      <td>1</td>\n",
       "      <td>2355</td>\n",
       "      <td>5</td>\n",
       "      <td>978824291</td>\n",
       "    </tr>\n",
       "    <tr>\n",
       "      <th>...</th>\n",
       "      <td>...</td>\n",
       "      <td>...</td>\n",
       "      <td>...</td>\n",
       "      <td>...</td>\n",
       "    </tr>\n",
       "    <tr>\n",
       "      <th>1000204</th>\n",
       "      <td>6040</td>\n",
       "      <td>1091</td>\n",
       "      <td>1</td>\n",
       "      <td>956716541</td>\n",
       "    </tr>\n",
       "    <tr>\n",
       "      <th>1000205</th>\n",
       "      <td>6040</td>\n",
       "      <td>1094</td>\n",
       "      <td>5</td>\n",
       "      <td>956704887</td>\n",
       "    </tr>\n",
       "    <tr>\n",
       "      <th>1000206</th>\n",
       "      <td>6040</td>\n",
       "      <td>562</td>\n",
       "      <td>5</td>\n",
       "      <td>956704746</td>\n",
       "    </tr>\n",
       "    <tr>\n",
       "      <th>1000207</th>\n",
       "      <td>6040</td>\n",
       "      <td>1096</td>\n",
       "      <td>4</td>\n",
       "      <td>956715648</td>\n",
       "    </tr>\n",
       "    <tr>\n",
       "      <th>1000208</th>\n",
       "      <td>6040</td>\n",
       "      <td>1097</td>\n",
       "      <td>4</td>\n",
       "      <td>956715569</td>\n",
       "    </tr>\n",
       "  </tbody>\n",
       "</table>\n",
       "<p>1000209 rows × 4 columns</p>\n",
       "</div>"
      ],
      "text/plain": [
       "         UserID  MovieID  Rating  Timestamp\n",
       "0             1     1193       5  978300760\n",
       "1             1      661       3  978302109\n",
       "2             1      914       3  978301968\n",
       "3             1     3408       4  978300275\n",
       "4             1     2355       5  978824291\n",
       "...         ...      ...     ...        ...\n",
       "1000204    6040     1091       1  956716541\n",
       "1000205    6040     1094       5  956704887\n",
       "1000206    6040      562       5  956704746\n",
       "1000207    6040     1096       4  956715648\n",
       "1000208    6040     1097       4  956715569\n",
       "\n",
       "[1000209 rows x 4 columns]"
      ]
     },
     "execution_count": 3,
     "metadata": {},
     "output_type": "execute_result"
    }
   ],
   "source": [
    "# load the rating data\n",
    "ratingsHeader = [\"UserID\", \"MovieID\", \"Rating\", \"Timestamp\"]\n",
    "ratingsDF = pd.read_table('Raw Data/ratings.dat',sep = '::', names = ratingsHeader, engine = \"python\")\n",
    "ratingsDF"
   ]
  },
  {
   "cell_type": "markdown",
   "metadata": {},
   "source": [
    "## K - Fold Cross Validation\n",
    "\n",
    "* shuffle the dataframe\n",
    "* split the data into K folds\n",
    "* split the trainData(K-1) and testData(1) for K times\n",
    "* return the trainDataList and the testDataList"
   ]
  },
  {
   "cell_type": "code",
   "execution_count": 4,
   "metadata": {},
   "outputs": [],
   "source": [
    "#split the data\n",
    "def splitData(df, folds = 5, shu = True, randomState = None):\n",
    "    trainDFList = []\n",
    "    testDFList = []\n",
    "    #shuffle the dataframe\n",
    "    df = shuffle(df, random_state = randomState)\n",
    "    #split the data into K folds\n",
    "    nums = df.shape[0]\n",
    "    length = int(nums / folds)\n",
    "    dfList = []\n",
    "    dfList.append(df[0:length])\n",
    "    for i in range(1,folds - 1):\n",
    "        dfList.append(df[i*length: (i + 1) * length])\n",
    "    dfList.append(df[(folds - 1) * length :])\n",
    "    #split the trainData and test Data\n",
    "    for i in range(folds):\n",
    "        testDF = dfList[i]\n",
    "        tempList = []\n",
    "        for j in range(folds):\n",
    "            if(j != i):\n",
    "                tempList.append(j)\n",
    "        trainDF = dfList[tempList[0]]\n",
    "        for j in range(1,folds - 1):\n",
    "            trainDF = pd.concat([trainDF, dfList[tempList[j]]])\n",
    "        trainDFList.append(trainDF)\n",
    "        testDFList.append(testDF)\n",
    "    #return the trainDataList and the testDataList\n",
    "    return trainDFList, testDFList"
   ]
  },
  {
   "cell_type": "code",
   "execution_count": 5,
   "metadata": {},
   "outputs": [],
   "source": [
    "#split the data\n",
    "trainRatingDFList, testRatingDFList = splitData(ratingsDF, folds = 5, shu = True, randomState = 1)"
   ]
  },
  {
   "cell_type": "markdown",
   "metadata": {},
   "source": [
    "## Load the train rating data"
   ]
  },
  {
   "cell_type": "code",
   "execution_count": 6,
   "metadata": {},
   "outputs": [],
   "source": [
    "# load the train rating data\n",
    "# save the Rating Data into the dictionary\n",
    "def loadTrainRatingData(row, dataSet, dataSet2):\n",
    "    userID = row['UserID']\n",
    "    movieID = row['MovieID']\n",
    "    rating = row['Rating']\n",
    "    dataSet[userID][movieID] = rating\n",
    "    dataSet2[movieID][userID] = rating"
   ]
  },
  {
   "cell_type": "code",
   "execution_count": 7,
   "metadata": {},
   "outputs": [
    {
     "data": {
      "text/plain": [
       "120098    None\n",
       "529184    None\n",
       "341591    None\n",
       "470922    None\n",
       "630004    None\n",
       "          ... \n",
       "491263    None\n",
       "791624    None\n",
       "470924    None\n",
       "491755    None\n",
       "128037    None\n",
       "Length: 800168, dtype: object"
      ]
     },
     "execution_count": 7,
     "metadata": {},
     "output_type": "execute_result"
    }
   ],
   "source": [
    "# load the train rating data\n",
    "trainRatingDF = trainRatingDFList[0]\n",
    "trainDataSet = collections.defaultdict(dict)\n",
    "trainDataSet2 = collections.defaultdict(dict)\n",
    "trainRatingDF.apply(loadTrainRatingData, axis = 1, dataSet = trainDataSet, dataSet2 = trainDataSet2)"
   ]
  },
  {
   "cell_type": "markdown",
   "metadata": {},
   "source": [
    "## Load the test rating data"
   ]
  },
  {
   "cell_type": "code",
   "execution_count": 8,
   "metadata": {},
   "outputs": [],
   "source": [
    "# load the test rating data\n",
    "# save the Rating Data into the dictionary\n",
    "def loadTestRatingData(row, dataSet):\n",
    "    userID = row['UserID']\n",
    "    movieID = row['MovieID']\n",
    "    rating = row['Rating']\n",
    "    dataSet[userID][movieID] = rating"
   ]
  },
  {
   "cell_type": "code",
   "execution_count": 9,
   "metadata": {},
   "outputs": [
    {
     "data": {
      "text/plain": [
       "630120    None\n",
       "229398    None\n",
       "758377    None\n",
       "159240    None\n",
       "254252    None\n",
       "          ... \n",
       "659611    None\n",
       "875199    None\n",
       "743921    None\n",
       "527163    None\n",
       "623363    None\n",
       "Length: 200041, dtype: object"
      ]
     },
     "execution_count": 9,
     "metadata": {},
     "output_type": "execute_result"
    }
   ],
   "source": [
    "# load the test rating data\n",
    "testRatingDF = testRatingDFList[0]\n",
    "testDataSet = collections.defaultdict(dict)\n",
    "testRatingDF.apply(loadTestRatingData, axis = 1, dataSet = testDataSet)"
   ]
  },
  {
   "cell_type": "markdown",
   "metadata": {},
   "source": [
    "## Calculate similarities among movies(Content-Based)\n",
    "\n",
    "* represent movies using TF-IDF Vector\n",
    "* calculate the cosine similarity\n",
    "* get the index\n",
    "* save the similarity"
   ]
  },
  {
   "cell_type": "code",
   "execution_count": 10,
   "metadata": {},
   "outputs": [],
   "source": [
    "# calculate similarities among movies(content-based)\n",
    "# save the similarities into the dictionary\n",
    "def contentBasedSimilarityDict(moviesMetadataDF):\n",
    "    #represent movies using TF-IDF Vector\n",
    "    tfidfVector = TfidfVectorizer(stop_words = 'english')\n",
    "    tfidf_matrix = tfidfVector.fit_transform(moviesMetadataDF['description'])\n",
    "    movieIDList = list(moviesMetadataDF['movieId'].values)\n",
    "    #calculate similarities among all the movies\n",
    "    cosine_sim = linear_kernel(tfidf_matrix, tfidf_matrix)\n",
    "    movieSimilarityDict = collections.defaultdict(dict)\n",
    "    num = cosine_sim.shape[0]\n",
    "    for i in range(num):\n",
    "        for j in range(i, num):\n",
    "            #get the index\n",
    "            IDA = movieIDList[i]\n",
    "            IDB = movieIDList[j]\n",
    "            #get the similarity\n",
    "            similarity = cosine_sim[i][j]\n",
    "            #save the similarity\n",
    "            movieSimilarityDict[IDA][IDB] = similarity\n",
    "            movieSimilarityDict[IDB][IDA] = similarity\n",
    "    #return the similarity dictionary\n",
    "    return movieSimilarityDict"
   ]
  },
  {
   "cell_type": "code",
   "execution_count": 11,
   "metadata": {},
   "outputs": [],
   "source": [
    "# calculate similarities among movies(content-based)\n",
    "CBSimilarityDict = contentBasedSimilarityDict(moviesMetadataDF)"
   ]
  },
  {
   "cell_type": "markdown",
   "metadata": {},
   "source": [
    "## Calculate similarities among movies(Collaborative Filtering)\n",
    "\n",
    "* get the index\n",
    "* find the commen Items\n",
    "* calculate the similarity\n",
    "* save the similarity"
   ]
  },
  {
   "cell_type": "code",
   "execution_count": 12,
   "metadata": {},
   "outputs": [],
   "source": [
    "# calculate similarities among movies(collaborative filtering)\n",
    "# save the similarities into the dictionary\n",
    "def collaborativeFilteringSimilarityDict(trainDataSet):\n",
    "    trainMovieList = list(trainDataSet.keys())\n",
    "    num = len(trainMovieList)\n",
    "    movieSimilarityDict = collections.defaultdict(dict)\n",
    "    #calculate similarities among all the movies\n",
    "    for i in range(num):\n",
    "        for j in range(i, num):\n",
    "            #get the index\n",
    "            IDA = trainMovieList[i]\n",
    "            IDB = trainMovieList[j]\n",
    "            setA = set(trainDataSet[IDA].keys())\n",
    "            setB = set(trainDataSet[IDB].keys())\n",
    "            #count the commonItems\n",
    "            commonItems = len(setA.intersection(setB))\n",
    "            #calculate the similarity\n",
    "            similarity = commonItems/np.sqrt(len(setA) * len(setB))\n",
    "            #save the similarity\n",
    "            movieSimilarityDict[IDA][IDB] = similarity\n",
    "            movieSimilarityDict[IDB][IDA] = similarity\n",
    "    #return the similarity dictionary\n",
    "    return movieSimilarityDict"
   ]
  },
  {
   "cell_type": "code",
   "execution_count": 13,
   "metadata": {},
   "outputs": [],
   "source": [
    "#calculate similarities among movies\n",
    "CFSimilarityDict = collaborativeFilteringSimilarityDict(trainDataSet2)"
   ]
  },
  {
   "attachments": {},
   "cell_type": "markdown",
   "metadata": {},
   "source": [
    "## Predict the rating value\n",
    "\n",
    "* select movies user rated\n",
    "* select similar movies according to the similarity matrix calculated by metadata of movies\n",
    "* select similar movies according to the similarity matrix calculated by metadata of movies\n",
    "* predict the rating value"
   ]
  },
  {
   "cell_type": "code",
   "execution_count": 14,
   "metadata": {},
   "outputs": [],
   "source": [
    "# predict the rating value\n",
    "def predictRating(trainDataSet, CBSimilarityDict, CFSimilarityDict, userID, movieID, K1, K2):\n",
    "    similaritySum = 0.0\n",
    "    ratingSimSum = 0.0\n",
    "    #select movies user rated\n",
    "    ratedMovies = trainDataSet[userID]\n",
    "    CFSimilarMovieDict = collections.defaultdict(float)\n",
    "    CBMovieIDList = list(CBSimilarityDict.keys())\n",
    "    if(movieID in CBMovieIDList):\n",
    "        CBSimilarMovieDict = collections.defaultdict(float)\n",
    "        for similarMovieID in ratedMovies:\n",
    "            if(similarMovieID == movieID):\n",
    "                continue\n",
    "            try:\n",
    "                CBSimilarMovieDict[similarMovieID] = CBSimilarityDict[similarMovieID][movieID]\n",
    "            except:\n",
    "                pass\n",
    "        #select similar movies according to the similarity matrix calculated by metadata of movies\n",
    "        for similarMovieID, similarity in sorted(CBSimilarMovieDict.items(), key = lambda d:d[1], reverse = True)[:K1]:\n",
    "            try:\n",
    "                CFSimilarMovieDict[similarMovieID] = CFSimilarityDict[similarMovieID][movieID]\n",
    "            except:\n",
    "                pass\n",
    "    else:\n",
    "        for similarMovieID in ratedMovies:\n",
    "            if(similarMovieID == movieID):\n",
    "                continue\n",
    "            CFSimilarMovieDict[similarMovieID] = CFSimilarityDict[similarMovieID][movieID]\n",
    "    #select similar movies according to the similarity matrix calculated by metadata of movies\n",
    "    for similarMovieID, similarity in sorted(CFSimilarMovieDict.items(), key = lambda d:d[1], reverse = True)[:K2]:\n",
    "        similaritySum += similarity\n",
    "        ratingSimSum += similarity * ratedMovies[similarMovieID]\n",
    "    #predict the rating value\n",
    "    if(similaritySum == 0):\n",
    "        result = 0\n",
    "    else:\n",
    "        result = 1.0 * ratingSimSum / similaritySum\n",
    "    return result"
   ]
  },
  {
   "cell_type": "code",
   "execution_count": 16,
   "metadata": {},
   "outputs": [
    {
     "data": {
      "text/plain": [
       "4.455166940096121"
      ]
     },
     "execution_count": 16,
     "metadata": {},
     "output_type": "execute_result"
    }
   ],
   "source": [
    "#predict the rating value(User1 on Movie594)\n",
    "predictRating(trainDataSet,  CBSimilarityDict,CFSimilarityDict,  1, 594, 100, 10)"
   ]
  },
  {
   "cell_type": "code",
   "execution_count": 17,
   "metadata": {},
   "outputs": [
    {
     "data": {
      "text/plain": [
       "4"
      ]
     },
     "execution_count": 17,
     "metadata": {},
     "output_type": "execute_result"
    }
   ],
   "source": [
    "#The rating value that User1 rated on Movie594 is 4 \n",
    "testDataSet[1][594]"
   ]
  },
  {
   "cell_type": "markdown",
   "metadata": {},
   "source": [
    "## Calculate the mean absolute error "
   ]
  },
  {
   "cell_type": "code",
   "execution_count": 18,
   "metadata": {},
   "outputs": [],
   "source": [
    "# calculate the mean absolute error on the user\n",
    "def evaluateUserMAE(trainDataSet, testDataSet, CBSimilarityDict, CFSimilarityDict, userID, K1, K2):\n",
    "    AESum = 0.0\n",
    "    n = len(testDataSet[userID].keys())\n",
    "    for movieID in testDataSet[userID].keys():\n",
    "        try:\n",
    "            AESum += np.fabs(predictRating(trainDataSet, CBSimilarityDict, CFSimilarityDict, userID, movieID, K1, K2) - testDataSet[userID][movieID])\n",
    "        except:\n",
    "            n -= 1\n",
    "    return [AESum, n]"
   ]
  },
  {
   "cell_type": "code",
   "execution_count": 20,
   "metadata": {},
   "outputs": [
    {
     "data": {
      "text/plain": [
       "0.5608424425381069"
      ]
     },
     "execution_count": 20,
     "metadata": {},
     "output_type": "execute_result"
    }
   ],
   "source": [
    "#calculate the mean absolute error on User 1\n",
    "AESum, n = evaluateUserMAE(trainDataSet, testDataSet, CBSimilarityDict, CFSimilarityDict, 1, 200, 10)\n",
    "AESum/n"
   ]
  },
  {
   "cell_type": "code",
   "execution_count": 22,
   "metadata": {},
   "outputs": [],
   "source": [
    "#calculate the mean absolute error on the whole dataset\n",
    "def evaluateMAE(trainDataSet, testDataSet, CBSimilarityDF, CFSimilarityDict, K1, K2):\n",
    "    AESum = 0.0\n",
    "    n = 0\n",
    "    for userID in list(testDataSet.keys()):\n",
    "        curAE, curN = evaluateUserMAE(trainDataSet, testDataSet, CBSimilarityDF, CFSimilarityDict, userID, K1, K2)\n",
    "        if(np.isnan(curAE) or np.isnan(curN)):\n",
    "            continue\n",
    "        AESum += curAE\n",
    "        n += curN\n",
    "    return AESum / n"
   ]
  },
  {
   "cell_type": "code",
   "execution_count": 23,
   "metadata": {},
   "outputs": [
    {
     "data": {
      "text/plain": [
       "0.7366821146298921"
      ]
     },
     "execution_count": 23,
     "metadata": {},
     "output_type": "execute_result"
    }
   ],
   "source": [
    "#calculate the mean absolute error on the whole dataset\n",
    "evaluateMAE(trainDataSet, testDataSet, CBSimilarityDict, CFSimilarityDict, 200, 10)"
   ]
  }
 ],
 "metadata": {
  "kernelspec": {
   "display_name": "Python 3",
   "language": "python",
   "name": "python3"
  },
  "language_info": {
   "codemirror_mode": {
    "name": "ipython",
    "version": 3
   },
   "file_extension": ".py",
   "mimetype": "text/x-python",
   "name": "python",
   "nbconvert_exporter": "python",
   "pygments_lexer": "ipython3",
   "version": "3.6.5"
  }
 },
 "nbformat": 4,
 "nbformat_minor": 2
}
