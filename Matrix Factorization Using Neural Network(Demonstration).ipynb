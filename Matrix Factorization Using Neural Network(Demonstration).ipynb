{
 "cells": [
  {
   "cell_type": "markdown",
   "metadata": {},
   "source": [
    "# Matrix Factorization Using Neural Network(Demonstration)"
   ]
  },
  {
   "cell_type": "markdown",
   "metadata": {},
   "source": [
    "## Import libraries"
   ]
  },
  {
   "cell_type": "code",
   "execution_count": 22,
   "metadata": {
    "colab": {},
    "colab_type": "code",
    "executionInfo": {
     "elapsed": 2543,
     "status": "ok",
     "timestamp": 1596974235120,
     "user": {
      "displayName": "Tianyu Hu",
      "photoUrl": "",
      "userId": "16888028508837944681"
     },
     "user_tz": -480
    },
    "id": "T__d8qAIiESF"
   },
   "outputs": [],
   "source": [
    "import pandas as pd\n",
    "import numpy as np\n",
    "import warnings\n",
    "from keras.models import Model\n",
    "from keras.layers import Input, Dot, Flatten\n",
    "from keras.layers.embeddings import Embedding\n",
    "from sklearn.utils import shuffle\n",
    "from keras.callbacks import TensorBoard\n",
    "from keras.regularizers import l2\n",
    "from sklearn.metrics import mean_absolute_error\n",
    "import warnings\n",
    "import keras\n",
    "import matplotlib.pyplot as plt\n",
    "warnings.filterwarnings('ignore')"
   ]
  },
  {
   "cell_type": "markdown",
   "metadata": {},
   "source": [
    "## Load the rating data"
   ]
  },
  {
   "cell_type": "code",
   "execution_count": 2,
   "metadata": {
    "colab": {},
    "colab_type": "code",
    "executionInfo": {
     "elapsed": 1192,
     "status": "ok",
     "timestamp": 1596974291954,
     "user": {
      "displayName": "Tianyu Hu",
      "photoUrl": "",
      "userId": "16888028508837944681"
     },
     "user_tz": -480
    },
    "id": "3-z9qvBh7Lrs"
   },
   "outputs": [
    {
     "data": {
      "text/html": [
       "<div>\n",
       "<style scoped>\n",
       "    .dataframe tbody tr th:only-of-type {\n",
       "        vertical-align: middle;\n",
       "    }\n",
       "\n",
       "    .dataframe tbody tr th {\n",
       "        vertical-align: top;\n",
       "    }\n",
       "\n",
       "    .dataframe thead th {\n",
       "        text-align: right;\n",
       "    }\n",
       "</style>\n",
       "<table border=\"1\" class=\"dataframe\">\n",
       "  <thead>\n",
       "    <tr style=\"text-align: right;\">\n",
       "      <th></th>\n",
       "      <th>UserID</th>\n",
       "      <th>MovieID</th>\n",
       "      <th>Rating</th>\n",
       "      <th>Timestamp</th>\n",
       "    </tr>\n",
       "  </thead>\n",
       "  <tbody>\n",
       "    <tr>\n",
       "      <th>0</th>\n",
       "      <td>1</td>\n",
       "      <td>1193</td>\n",
       "      <td>5</td>\n",
       "      <td>978300760</td>\n",
       "    </tr>\n",
       "    <tr>\n",
       "      <th>1</th>\n",
       "      <td>1</td>\n",
       "      <td>661</td>\n",
       "      <td>3</td>\n",
       "      <td>978302109</td>\n",
       "    </tr>\n",
       "    <tr>\n",
       "      <th>2</th>\n",
       "      <td>1</td>\n",
       "      <td>914</td>\n",
       "      <td>3</td>\n",
       "      <td>978301968</td>\n",
       "    </tr>\n",
       "    <tr>\n",
       "      <th>3</th>\n",
       "      <td>1</td>\n",
       "      <td>3408</td>\n",
       "      <td>4</td>\n",
       "      <td>978300275</td>\n",
       "    </tr>\n",
       "    <tr>\n",
       "      <th>4</th>\n",
       "      <td>1</td>\n",
       "      <td>2355</td>\n",
       "      <td>5</td>\n",
       "      <td>978824291</td>\n",
       "    </tr>\n",
       "    <tr>\n",
       "      <th>...</th>\n",
       "      <td>...</td>\n",
       "      <td>...</td>\n",
       "      <td>...</td>\n",
       "      <td>...</td>\n",
       "    </tr>\n",
       "    <tr>\n",
       "      <th>1000204</th>\n",
       "      <td>6040</td>\n",
       "      <td>1091</td>\n",
       "      <td>1</td>\n",
       "      <td>956716541</td>\n",
       "    </tr>\n",
       "    <tr>\n",
       "      <th>1000205</th>\n",
       "      <td>6040</td>\n",
       "      <td>1094</td>\n",
       "      <td>5</td>\n",
       "      <td>956704887</td>\n",
       "    </tr>\n",
       "    <tr>\n",
       "      <th>1000206</th>\n",
       "      <td>6040</td>\n",
       "      <td>562</td>\n",
       "      <td>5</td>\n",
       "      <td>956704746</td>\n",
       "    </tr>\n",
       "    <tr>\n",
       "      <th>1000207</th>\n",
       "      <td>6040</td>\n",
       "      <td>1096</td>\n",
       "      <td>4</td>\n",
       "      <td>956715648</td>\n",
       "    </tr>\n",
       "    <tr>\n",
       "      <th>1000208</th>\n",
       "      <td>6040</td>\n",
       "      <td>1097</td>\n",
       "      <td>4</td>\n",
       "      <td>956715569</td>\n",
       "    </tr>\n",
       "  </tbody>\n",
       "</table>\n",
       "<p>1000209 rows × 4 columns</p>\n",
       "</div>"
      ],
      "text/plain": [
       "         UserID  MovieID  Rating  Timestamp\n",
       "0             1     1193       5  978300760\n",
       "1             1      661       3  978302109\n",
       "2             1      914       3  978301968\n",
       "3             1     3408       4  978300275\n",
       "4             1     2355       5  978824291\n",
       "...         ...      ...     ...        ...\n",
       "1000204    6040     1091       1  956716541\n",
       "1000205    6040     1094       5  956704887\n",
       "1000206    6040      562       5  956704746\n",
       "1000207    6040     1096       4  956715648\n",
       "1000208    6040     1097       4  956715569\n",
       "\n",
       "[1000209 rows x 4 columns]"
      ]
     },
     "execution_count": 2,
     "metadata": {},
     "output_type": "execute_result"
    }
   ],
   "source": [
    "#load the rating data\n",
    "ratingsHeader = [\"UserID\", \"MovieID\", \"Rating\", \"Timestamp\"]\n",
    "ratingsDF = pd.read_table('Raw Data/ratings.dat',sep = '::', names = ratingsHeader, engine = \"python\")\n",
    "ratingsDF"
   ]
  },
  {
   "cell_type": "markdown",
   "metadata": {},
   "source": [
    "## Data Processing"
   ]
  },
  {
   "cell_type": "code",
   "execution_count": 3,
   "metadata": {},
   "outputs": [
    {
     "data": {
      "text/html": [
       "<div>\n",
       "<style scoped>\n",
       "    .dataframe tbody tr th:only-of-type {\n",
       "        vertical-align: middle;\n",
       "    }\n",
       "\n",
       "    .dataframe tbody tr th {\n",
       "        vertical-align: top;\n",
       "    }\n",
       "\n",
       "    .dataframe thead th {\n",
       "        text-align: right;\n",
       "    }\n",
       "</style>\n",
       "<table border=\"1\" class=\"dataframe\">\n",
       "  <thead>\n",
       "    <tr style=\"text-align: right;\">\n",
       "      <th></th>\n",
       "      <th>UserID</th>\n",
       "      <th>MovieID</th>\n",
       "      <th>Rating</th>\n",
       "      <th>Timestamp</th>\n",
       "      <th>userId</th>\n",
       "      <th>movieId</th>\n",
       "    </tr>\n",
       "  </thead>\n",
       "  <tbody>\n",
       "    <tr>\n",
       "      <th>0</th>\n",
       "      <td>1</td>\n",
       "      <td>1193</td>\n",
       "      <td>5</td>\n",
       "      <td>978300760</td>\n",
       "      <td>0</td>\n",
       "      <td>1104</td>\n",
       "    </tr>\n",
       "    <tr>\n",
       "      <th>1</th>\n",
       "      <td>1</td>\n",
       "      <td>661</td>\n",
       "      <td>3</td>\n",
       "      <td>978302109</td>\n",
       "      <td>0</td>\n",
       "      <td>639</td>\n",
       "    </tr>\n",
       "    <tr>\n",
       "      <th>2</th>\n",
       "      <td>1</td>\n",
       "      <td>914</td>\n",
       "      <td>3</td>\n",
       "      <td>978301968</td>\n",
       "      <td>0</td>\n",
       "      <td>853</td>\n",
       "    </tr>\n",
       "    <tr>\n",
       "      <th>3</th>\n",
       "      <td>1</td>\n",
       "      <td>3408</td>\n",
       "      <td>4</td>\n",
       "      <td>978300275</td>\n",
       "      <td>0</td>\n",
       "      <td>3177</td>\n",
       "    </tr>\n",
       "    <tr>\n",
       "      <th>4</th>\n",
       "      <td>1</td>\n",
       "      <td>2355</td>\n",
       "      <td>5</td>\n",
       "      <td>978824291</td>\n",
       "      <td>0</td>\n",
       "      <td>2162</td>\n",
       "    </tr>\n",
       "    <tr>\n",
       "      <th>...</th>\n",
       "      <td>...</td>\n",
       "      <td>...</td>\n",
       "      <td>...</td>\n",
       "      <td>...</td>\n",
       "      <td>...</td>\n",
       "      <td>...</td>\n",
       "    </tr>\n",
       "    <tr>\n",
       "      <th>1000204</th>\n",
       "      <td>6040</td>\n",
       "      <td>1091</td>\n",
       "      <td>1</td>\n",
       "      <td>956716541</td>\n",
       "      <td>6039</td>\n",
       "      <td>1019</td>\n",
       "    </tr>\n",
       "    <tr>\n",
       "      <th>1000205</th>\n",
       "      <td>6040</td>\n",
       "      <td>1094</td>\n",
       "      <td>5</td>\n",
       "      <td>956704887</td>\n",
       "      <td>6039</td>\n",
       "      <td>1022</td>\n",
       "    </tr>\n",
       "    <tr>\n",
       "      <th>1000206</th>\n",
       "      <td>6040</td>\n",
       "      <td>562</td>\n",
       "      <td>5</td>\n",
       "      <td>956704746</td>\n",
       "      <td>6039</td>\n",
       "      <td>548</td>\n",
       "    </tr>\n",
       "    <tr>\n",
       "      <th>1000207</th>\n",
       "      <td>6040</td>\n",
       "      <td>1096</td>\n",
       "      <td>4</td>\n",
       "      <td>956715648</td>\n",
       "      <td>6039</td>\n",
       "      <td>1024</td>\n",
       "    </tr>\n",
       "    <tr>\n",
       "      <th>1000208</th>\n",
       "      <td>6040</td>\n",
       "      <td>1097</td>\n",
       "      <td>4</td>\n",
       "      <td>956715569</td>\n",
       "      <td>6039</td>\n",
       "      <td>1025</td>\n",
       "    </tr>\n",
       "  </tbody>\n",
       "</table>\n",
       "<p>1000209 rows × 6 columns</p>\n",
       "</div>"
      ],
      "text/plain": [
       "         UserID  MovieID  Rating  Timestamp  userId  movieId\n",
       "0             1     1193       5  978300760       0     1104\n",
       "1             1      661       3  978302109       0      639\n",
       "2             1      914       3  978301968       0      853\n",
       "3             1     3408       4  978300275       0     3177\n",
       "4             1     2355       5  978824291       0     2162\n",
       "...         ...      ...     ...        ...     ...      ...\n",
       "1000204    6040     1091       1  956716541    6039     1019\n",
       "1000205    6040     1094       5  956704887    6039     1022\n",
       "1000206    6040      562       5  956704746    6039      548\n",
       "1000207    6040     1096       4  956715648    6039     1024\n",
       "1000208    6040     1097       4  956715569    6039     1025\n",
       "\n",
       "[1000209 rows x 6 columns]"
      ]
     },
     "execution_count": 3,
     "metadata": {},
     "output_type": "execute_result"
    }
   ],
   "source": [
    "#generate the continued userID and movieID for neural network\n",
    "ratingsDF['userId']= ratingsDF.UserID.astype('category').cat.codes.values   \n",
    "ratingsDF['movieId'] = ratingsDF.MovieID.astype('category').cat.codes.values\n",
    "ratingsDF"
   ]
  },
  {
   "cell_type": "markdown",
   "metadata": {},
   "source": [
    "## K - Fold Cross Validation\n",
    "\n",
    "* shuffle the dataframe\n",
    "* split the data into K folds\n",
    "* split the trainData(K-1) and testData(1) for K times\n",
    "* return the trainDataList and the testDataList"
   ]
  },
  {
   "cell_type": "code",
   "execution_count": 4,
   "metadata": {
    "colab": {},
    "colab_type": "code",
    "executionInfo": {
     "elapsed": 1602,
     "status": "ok",
     "timestamp": 1596974305161,
     "user": {
      "displayName": "Tianyu Hu",
      "photoUrl": "",
      "userId": "16888028508837944681"
     },
     "user_tz": -480
    },
    "id": "exXAl3Qst3sm"
   },
   "outputs": [],
   "source": [
    "#split the data\n",
    "def splitData(df, folds = 5, shu = True, randomState = None):\n",
    "    trainDFList = []\n",
    "    testDFList = []\n",
    "    #shuffle the dataframe\n",
    "    df = shuffle(df, random_state = randomState)\n",
    "    #split the data into K folds\n",
    "    nums = df.shape[0]\n",
    "    length = int(nums / folds)\n",
    "    dfList = []\n",
    "    dfList.append(df[0:length])\n",
    "    for i in range(1,folds - 1):\n",
    "        dfList.append(df[i*length: (i + 1) * length])\n",
    "    dfList.append(df[(folds - 1) * length :])\n",
    "    #split the trainData and test Data\n",
    "    for i in range(folds):\n",
    "        testDF = dfList[i]\n",
    "        tempList = []\n",
    "        for j in range(folds):\n",
    "            if(j != i):\n",
    "                tempList.append(j)\n",
    "        trainDF = dfList[tempList[0]]\n",
    "        for j in range(1,folds - 1):\n",
    "            trainDF = pd.concat([trainDF, dfList[tempList[j]]])\n",
    "        trainDFList.append(trainDF)\n",
    "        testDFList.append(testDF)\n",
    "    #return the trainDataList and the testDataList\n",
    "    return trainDFList, testDFList"
   ]
  },
  {
   "cell_type": "code",
   "execution_count": 5,
   "metadata": {
    "colab": {},
    "colab_type": "code",
    "executionInfo": {
     "elapsed": 2132,
     "status": "ok",
     "timestamp": 1596974307945,
     "user": {
      "displayName": "Tianyu Hu",
      "photoUrl": "",
      "userId": "16888028508837944681"
     },
     "user_tz": -480
    },
    "id": "Rd_SU38bvHHS"
   },
   "outputs": [],
   "source": [
    "#split the data\n",
    "trainRatingDFList, testRatingDFList = splitData(ratingsDF, folds = 5, shu = True, randomState = 1)"
   ]
  },
  {
   "cell_type": "markdown",
   "metadata": {},
   "source": [
    "## Load the rating data"
   ]
  },
  {
   "cell_type": "code",
   "execution_count": 6,
   "metadata": {
    "colab": {},
    "colab_type": "code",
    "executionInfo": {
     "elapsed": 1139,
     "status": "ok",
     "timestamp": 1596974307946,
     "user": {
      "displayName": "Tianyu Hu",
      "photoUrl": "",
      "userId": "16888028508837944681"
     },
     "user_tz": -480
    },
    "id": "Jce3tjc9vLz0"
   },
   "outputs": [],
   "source": [
    "#load the train rating data\n",
    "trainRatingDF = trainRatingDFList[0]\n",
    "X_train = [trainRatingDF.userId.values, trainRatingDF.movieId.values]\n",
    "Y_train = trainRatingDF.Rating.values.astype(float)"
   ]
  },
  {
   "cell_type": "code",
   "execution_count": 7,
   "metadata": {
    "colab": {},
    "colab_type": "code",
    "executionInfo": {
     "elapsed": 1459,
     "status": "ok",
     "timestamp": 1596974309204,
     "user": {
      "displayName": "Tianyu Hu",
      "photoUrl": "",
      "userId": "16888028508837944681"
     },
     "user_tz": -480
    },
    "id": "a7BbWTBXvkiD"
   },
   "outputs": [],
   "source": [
    "#load the test rating data\n",
    "testRatingDF = testRatingDFList[0]\n",
    "X_test = [testRatingDF.userId.values, testRatingDF.movieId.values]\n",
    "Y_test = testRatingDF.Rating.values.astype(float)"
   ]
  },
  {
   "cell_type": "markdown",
   "metadata": {},
   "source": [
    "## Matrix Factorization Model Using Neural Network"
   ]
  },
  {
   "cell_type": "markdown",
   "metadata": {},
   "source": [
    "### Structure of Neural Network\n",
    "\n",
    "* UserInputLayer, MovieInputLayer\n",
    "* UserEmbeddingLayer, MovieEmbeddingLayer\n",
    "* UserFlattenLayer, MovieFlattenLayer\n",
    "* OutputLayer(rating value)"
   ]
  },
  {
   "cell_type": "markdown",
   "metadata": {},
   "source": [
    "### Detail of Model\n",
    "* Optimizer : Adam\n",
    "* Loss Function : Mean Absolute Error\n",
    "* Epoch: 25"
   ]
  },
  {
   "cell_type": "code",
   "execution_count": 9,
   "metadata": {
    "colab": {},
    "colab_type": "code",
    "executionInfo": {
     "elapsed": 1322,
     "status": "ok",
     "timestamp": 1596993894920,
     "user": {
      "displayName": "Tianyu Hu",
      "photoUrl": "",
      "userId": "16888028508837944681"
     },
     "user_tz": -480
    },
    "id": "bLOHZoJCwHbT"
   },
   "outputs": [],
   "source": [
    "# Matrix Factorization Model Using Neural Network\n",
    "def MatrixFactorizationModel(numUsers, numMovies, numFactors):\n",
    "    #userLayer\n",
    "    userInput = Input(shape = [1], name = \"userInput\")\n",
    "    userEmbedding = Embedding(numUsers, numFactors, embeddings_initializer='he_normal', embeddings_regularizer=l2(1e-6), name = \"userEmbedding\")(userInput)\n",
    "    userFlatten = Flatten(name = \"userFlatten\")(userEmbedding)\n",
    "    #movieLayer\n",
    "    movieInput = Input(shape= [1], name = \"movieInput\")\n",
    "    movieEmbedding = Embedding(numMovies, numFactors, embeddings_initializer='he_normal', embeddings_regularizer=l2(1e-6), name = \"movieEmbedding\")(movieInput)\n",
    "    movieFlatten = Flatten(name = \"movieFlatten\")(movieEmbedding)\n",
    "    # Just like in the case of matrix factorization, we take product of user and movie embeddings.\n",
    "    # This is trained to be equal to actual rating.\n",
    "    #outputLayer\n",
    "    rating = Dot(name = \"OutputLayer\", axes=1)([userFlatten, movieFlatten])\n",
    "    MFModel = Model(inputs = [userInput, movieInput], outputs = rating)\n",
    "    #optimizer\n",
    "    opt = keras.optimizers.Adam()\n",
    "    #loss function\n",
    "    loss = keras.losses.MAE\n",
    "    MFModel.compile(optimizer = opt, loss = loss)\n",
    "    return MFModel"
   ]
  },
  {
   "cell_type": "markdown",
   "metadata": {},
   "source": [
    "### Create the model"
   ]
  },
  {
   "cell_type": "code",
   "execution_count": 13,
   "metadata": {},
   "outputs": [
    {
     "name": "stdout",
     "output_type": "stream",
     "text": [
      "Model: \"model_3\"\n",
      "__________________________________________________________________________________________________\n",
      "Layer (type)                    Output Shape         Param #     Connected to                     \n",
      "==================================================================================================\n",
      "userInput (InputLayer)          (None, 1)            0                                            \n",
      "__________________________________________________________________________________________________\n",
      "movieInput (InputLayer)         (None, 1)            0                                            \n",
      "__________________________________________________________________________________________________\n",
      "userEmbedding (Embedding)       (None, 1, 7)         42280       userInput[0][0]                  \n",
      "__________________________________________________________________________________________________\n",
      "movieEmbedding (Embedding)      (None, 1, 7)         25942       movieInput[0][0]                 \n",
      "__________________________________________________________________________________________________\n",
      "userFlatten (Flatten)           (None, 7)            0           userEmbedding[0][0]              \n",
      "__________________________________________________________________________________________________\n",
      "movieFlatten (Flatten)          (None, 7)            0           movieEmbedding[0][0]             \n",
      "__________________________________________________________________________________________________\n",
      "OutputLayer (Dot)               (None, 1)            0           userFlatten[0][0]                \n",
      "                                                                 movieFlatten[0][0]               \n",
      "==================================================================================================\n",
      "Total params: 68,222\n",
      "Trainable params: 68,222\n",
      "Non-trainable params: 0\n",
      "__________________________________________________________________________________________________\n"
     ]
    }
   ],
   "source": [
    "#create the model\n",
    "numUsers = len(ratingsDF.UserID.unique())\n",
    "numMovies = len(ratingsDF.MovieID.unique())\n",
    "numFactors = 7\n",
    "MFModel = MatrixFactorizationModel(numUsers, numMovies, numFactors)\n",
    "MFModel.summary()"
   ]
  },
  {
   "cell_type": "markdown",
   "metadata": {},
   "source": [
    "### Train the model"
   ]
  },
  {
   "cell_type": "code",
   "execution_count": 15,
   "metadata": {},
   "outputs": [
    {
     "name": "stdout",
     "output_type": "stream",
     "text": [
      "Train on 800168 samples, validate on 200041 samples\n",
      "Epoch 1/25\n",
      " - 27s - loss: 0.8392 - val_loss: 0.7778\n",
      "Epoch 2/25\n",
      " - 26s - loss: 0.7664 - val_loss: 0.7672\n",
      "Epoch 3/25\n",
      " - 26s - loss: 0.7617 - val_loss: 0.7652\n",
      "Epoch 4/25\n",
      " - 24s - loss: 0.7598 - val_loss: 0.7635\n",
      "Epoch 5/25\n",
      " - 26s - loss: 0.7573 - val_loss: 0.7605\n",
      "Epoch 6/25\n",
      " - 27s - loss: 0.7520 - val_loss: 0.7547\n",
      "Epoch 7/25\n",
      " - 21s - loss: 0.7437 - val_loss: 0.7469\n",
      "Epoch 8/25\n",
      " - 27s - loss: 0.7351 - val_loss: 0.7422\n",
      "Epoch 9/25\n",
      " - 27s - loss: 0.7274 - val_loss: 0.7392\n",
      "Epoch 10/25\n",
      " - 27s - loss: 0.7210 - val_loss: 0.7357\n",
      "Epoch 11/25\n",
      " - 28s - loss: 0.7153 - val_loss: 0.7318\n",
      "Epoch 12/25\n",
      " - 28s - loss: 0.7097 - val_loss: 0.7307\n",
      "Epoch 13/25\n",
      " - 28s - loss: 0.7046 - val_loss: 0.7291\n",
      "Epoch 14/25\n",
      " - 28s - loss: 0.7000 - val_loss: 0.7271\n",
      "Epoch 15/25\n",
      " - 28s - loss: 0.6958 - val_loss: 0.7264\n",
      "Epoch 16/25\n",
      " - 28s - loss: 0.6923 - val_loss: 0.7256\n",
      "Epoch 17/25\n",
      " - 27s - loss: 0.6893 - val_loss: 0.7253\n",
      "Epoch 18/25\n",
      " - 28s - loss: 0.6865 - val_loss: 0.7255\n",
      "Epoch 19/25\n",
      " - 27s - loss: 0.6845 - val_loss: 0.7262\n",
      "Epoch 20/25\n",
      " - 24s - loss: 0.6828 - val_loss: 0.7247\n",
      "Epoch 21/25\n",
      " - 25s - loss: 0.6813 - val_loss: 0.7258\n",
      "Epoch 22/25\n",
      " - 27s - loss: 0.6801 - val_loss: 0.7261\n",
      "Epoch 23/25\n",
      " - 22s - loss: 0.6791 - val_loss: 0.7263\n",
      "Epoch 24/25\n",
      " - 26s - loss: 0.6780 - val_loss: 0.7254\n",
      "Epoch 25/25\n",
      " - 27s - loss: 0.6773 - val_loss: 0.7259\n"
     ]
    }
   ],
   "source": [
    "#train the model\n",
    "history = MFModel.fit(x=X_train, y=Y_train, batch_size = 64, epochs=25, verbose=2,validation_data=(X_test, Y_test))"
   ]
  },
  {
   "cell_type": "markdown",
   "metadata": {},
   "source": [
    "### Predict the rating values and Evaluate the performance of model"
   ]
  },
  {
   "cell_type": "code",
   "execution_count": 19,
   "metadata": {},
   "outputs": [
    {
     "data": {
      "text/plain": [
       "0.6890678408165672"
      ]
     },
     "execution_count": 19,
     "metadata": {},
     "output_type": "execute_result"
    }
   ],
   "source": [
    "#predict the rating values and evaluate the performance of model\n",
    "P_test = MFModel.predict(X_test)\n",
    "mean_absolute_error(P_test, Y_test)"
   ]
  },
  {
   "cell_type": "markdown",
   "metadata": {},
   "source": [
    "## Plot the validation loss of Matrix Factorization Using Neural Network"
   ]
  },
  {
   "cell_type": "code",
   "execution_count": 28,
   "metadata": {},
   "outputs": [
    {
     "data": {
      "text/plain": [
       "Text(0.5,1,'The Validation Loss of Matrix Factorization Using Neural Network')"
      ]
     },
     "execution_count": 28,
     "metadata": {},
     "output_type": "execute_result"
    },
    {
     "data": {
      "image/png": "[encoded data removed]",
      "text/plain": [
       "<Figure size 432x288 with 1 Axes>"
      ]
     },
     "metadata": {},
     "output_type": "display_data"
    }
   ],
   "source": [
    "X = range(1, 26)\n",
    "Y = history.history['val_loss']\n",
    "plt.plot(X, Y)\n",
    "plt.xlabel(\"Epoch\")\n",
    "plt.ylabel(\"MAE\")\n",
    "plt.title(\"The Validation Loss of Matrix Factorization Using Neural Network\")"
   ]
  }
 ],
 "metadata": {
  "accelerator": "GPU",
  "colab": {
   "authorship_tag": "ABX9TyMBuB3szsHNcD7Pu6RqHBTl",
   "collapsed_sections": [],
   "name": "neural network matrix factorization.ipynb",
   "provenance": []
  },
  "kernelspec": {
   "display_name": "Python 3",
   "language": "python",
   "name": "python3"
  },
  "language_info": {
   "codemirror_mode": {
    "name": "ipython",
    "version": 3
   },
   "file_extension": ".py",
   "mimetype": "text/x-python",
   "name": "python",
   "nbconvert_exporter": "python",
   "pygments_lexer": "ipython3",
   "version": "3.6.5"
  }
 },
 "nbformat": 4,
 "nbformat_minor": 1
}
